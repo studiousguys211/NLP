{
 "cells": [
  {
   "cell_type": "code",
   "execution_count": 1,
   "id": "ca61dfd3-f632-4de4-9177-1680369acd91",
   "metadata": {},
   "outputs": [
    {
     "name": "stdout",
     "output_type": "stream",
     "text": [
      "Requirement already satisfied: scipy in /opt/anaconda3/lib/python3.12/site-packages (1.15.1)\n",
      "Requirement already satisfied: numpy<2.5,>=1.23.5 in /opt/anaconda3/lib/python3.12/site-packages (from scipy) (1.26.4)\n",
      "Note: you may need to restart the kernel to use updated packages.\n"
     ]
    }
   ],
   "source": [
    "pip install --upgrade scipy"
   ]
  },
  {
   "cell_type": "code",
   "execution_count": 3,
   "id": "b16c3fd5",
   "metadata": {
    "colab": {
     "base_uri": "https://localhost:8080/"
    },
    "id": "b16c3fd5",
    "outputId": "81cf35de-4c29-49e7-f594-2104c18481c6"
   },
   "outputs": [
    {
     "name": "stderr",
     "output_type": "stream",
     "text": [
      "[nltk_data] Downloading package stopwords to\n",
      "[nltk_data]     /Users/abirkumarbose/nltk_data...\n",
      "[nltk_data]   Package stopwords is already up-to-date!\n",
      "[nltk_data] Downloading package punkt to\n",
      "[nltk_data]     /Users/abirkumarbose/nltk_data...\n",
      "[nltk_data]   Package punkt is already up-to-date!\n",
      "[nltk_data] Downloading package wordnet to\n",
      "[nltk_data]     /Users/abirkumarbose/nltk_data...\n",
      "[nltk_data]   Package wordnet is already up-to-date!\n"
     ]
    }
   ],
   "source": [
    "import pandas as pd\n",
    "import numpy as np\n",
    "import string\n",
    "import nltk\n",
    "from nltk.corpus import stopwords\n",
    "from nltk.stem import WordNetLemmatizer, SnowballStemmer\n",
    "from sklearn.feature_extraction.text import CountVectorizer\n",
    "from sklearn.feature_extraction.text import TfidfVectorizer\n",
    "from sklearn.model_selection import train_test_split\n",
    "from sklearn.metrics import accuracy_score\n",
    "from sklearn.naive_bayes import MultinomialNB\n",
    "from gensim.parsing.preprocessing import PorterStemmer, remove_stopwords\n",
    "\n",
    "nltk.download('stopwords')\n",
    "nltk.download('punkt')\n",
    "from nltk.stem import LancasterStemmer\n",
    "lancaster=LancasterStemmer()\n",
    "\n",
    "from nltk.stem.wordnet import WordNetLemmatizer\n",
    "lmtzr = WordNetLemmatizer()\n",
    "nltk.download('wordnet')\n",
    "\n",
    "from collections import Counter\n",
    "import matplotlib.pyplot as plt"
   ]
  },
  {
   "cell_type": "markdown",
   "id": "9c560aa7",
   "metadata": {
    "id": "9c560aa7"
   },
   "source": [
    "### Dataset\n",
    "\n",
    "Textual Dataset is classified the poem text into 4 genres -> Affection,Environment,Music and Death\n",
    "\n",
    "\n",
    "Features :\n",
    "- Poem : textual data\n",
    "- Genre : classification of text into 4 type namely, Affection,Environment,Music and Death\n",
    "\n"
   ]
  },
  {
   "cell_type": "code",
   "execution_count": 44,
   "id": "c71ede0d",
   "metadata": {
    "colab": {
     "base_uri": "https://localhost:8080/",
     "height": 335
    },
    "id": "c71ede0d",
    "outputId": "1d7524fa-d975-4841-ce66-75154d0e7e19",
    "scrolled": true
   },
   "outputs": [],
   "source": [
    "df = pd.read_csv('data.csv')\n"
   ]
  },
  {
   "cell_type": "code",
   "execution_count": 45,
   "id": "8fc16fe9-270c-45c3-a52d-96fc1d57586a",
   "metadata": {},
   "outputs": [
    {
     "name": "stdout",
     "output_type": "stream",
     "text": [
      "<class 'pandas.core.frame.DataFrame'>\n",
      "RangeIndex: 990 entries, 0 to 989\n",
      "Data columns (total 2 columns):\n",
      " #   Column  Non-Null Count  Dtype \n",
      "---  ------  --------------  ----- \n",
      " 0   Genre   990 non-null    object\n",
      " 1   Poem    987 non-null    object\n",
      "dtypes: object(2)\n",
      "memory usage: 15.6+ KB\n"
     ]
    }
   ],
   "source": [
    "df.info()"
   ]
  },
  {
   "cell_type": "code",
   "execution_count": 46,
   "id": "7f683c73",
   "metadata": {
    "id": "7f683c73",
    "scrolled": true
   },
   "outputs": [
    {
     "data": {
      "text/html": [
       "<div>\n",
       "<style scoped>\n",
       "    .dataframe tbody tr th:only-of-type {\n",
       "        vertical-align: middle;\n",
       "    }\n",
       "\n",
       "    .dataframe tbody tr th {\n",
       "        vertical-align: top;\n",
       "    }\n",
       "\n",
       "    .dataframe thead th {\n",
       "        text-align: right;\n",
       "    }\n",
       "</style>\n",
       "<table border=\"1\" class=\"dataframe\">\n",
       "  <thead>\n",
       "    <tr style=\"text-align: right;\">\n",
       "      <th></th>\n",
       "      <th>Genre</th>\n",
       "      <th>Poem</th>\n",
       "    </tr>\n",
       "  </thead>\n",
       "  <tbody>\n",
       "    <tr>\n",
       "      <th>0</th>\n",
       "      <td>Music</td>\n",
       "      <td>In the thick brushthey spend the...</td>\n",
       "    </tr>\n",
       "    <tr>\n",
       "      <th>1</th>\n",
       "      <td>Music</td>\n",
       "      <td>Storms are generous.                       ...</td>\n",
       "    </tr>\n",
       "    <tr>\n",
       "      <th>2</th>\n",
       "      <td>Music</td>\n",
       "      <td>—After Ana Mendieta Did you carry around the ...</td>\n",
       "    </tr>\n",
       "    <tr>\n",
       "      <th>3</th>\n",
       "      <td>Music</td>\n",
       "      <td>for Aja Sherrard at 20The portent may itself ...</td>\n",
       "    </tr>\n",
       "    <tr>\n",
       "      <th>4</th>\n",
       "      <td>Music</td>\n",
       "      <td>for Bob Marley, Bavaria, November 1980 Here i...</td>\n",
       "    </tr>\n",
       "  </tbody>\n",
       "</table>\n",
       "</div>"
      ],
      "text/plain": [
       "   Genre                                               Poem\n",
       "0  Music                In the thick brushthey spend the...\n",
       "1  Music     Storms are generous.                       ...\n",
       "2  Music   —After Ana Mendieta Did you carry around the ...\n",
       "3  Music   for Aja Sherrard at 20The portent may itself ...\n",
       "4  Music   for Bob Marley, Bavaria, November 1980 Here i..."
      ]
     },
     "execution_count": 46,
     "metadata": {},
     "output_type": "execute_result"
    }
   ],
   "source": [
    "df.head()"
   ]
  },
  {
   "cell_type": "code",
   "execution_count": 47,
   "id": "93fe8188-bd5b-4774-aa4d-c93feff1fddd",
   "metadata": {},
   "outputs": [
    {
     "data": {
      "text/plain": [
       "Genre\n",
       "Environment    252\n",
       "Music          250\n",
       "Death          247\n",
       "Affection      241\n",
       "Name: count, dtype: int64"
      ]
     },
     "execution_count": 47,
     "metadata": {},
     "output_type": "execute_result"
    }
   ],
   "source": [
    "df.Genre.value_counts()"
   ]
  },
  {
   "cell_type": "markdown",
   "id": "9005833d",
   "metadata": {
    "id": "9005833d"
   },
   "source": [
    "## SECTION B - 40 Marks"
   ]
  },
  {
   "cell_type": "markdown",
   "id": "4c4563d5",
   "metadata": {
    "id": "4c4563d5"
   },
   "source": [
    "## 2. In the provided data.csv dataset, the poem textis classified into 4 genres namely -Affection, Environment, Music and Death. Use this dataset as provided in the notebook pandas DataFrame and considering Poem column as text column, write python code for below.\n"
   ]
  },
  {
   "cell_type": "code",
   "execution_count": 48,
   "id": "ZaArvHcy4laV",
   "metadata": {
    "id": "ZaArvHcy4laV"
   },
   "outputs": [
    {
     "data": {
      "text/plain": [
       "Genre    0.00000\n",
       "Poem     0.30303\n",
       "dtype: float64"
      ]
     },
     "execution_count": 48,
     "metadata": {},
     "output_type": "execute_result"
    }
   ],
   "source": [
    "# Finding Null value \n",
    "(df.isnull().sum()/df.shape[0])*100\n",
    "\n"
   ]
  },
  {
   "cell_type": "code",
   "execution_count": 49,
   "id": "1dcd1184-f6a5-4d74-bc61-1c7c92f6f39f",
   "metadata": {},
   "outputs": [],
   "source": [
    "# removing null value \n",
    "df.dropna(subset=[\"Poem\", \"Genre\"], inplace=True)"
   ]
  },
  {
   "cell_type": "code",
   "execution_count": 50,
   "id": "ba035c57-d5eb-441a-b642-1173965d657f",
   "metadata": {},
   "outputs": [
    {
     "data": {
      "text/plain": [
       "Genre    0.0\n",
       "Poem     0.0\n",
       "dtype: float64"
      ]
     },
     "execution_count": 50,
     "metadata": {},
     "output_type": "execute_result"
    }
   ],
   "source": [
    "# Finding Null value \n",
    "(df.isnull().sum()/df.shape[0])*100"
   ]
  },
  {
   "cell_type": "markdown",
   "id": "19ac43e1",
   "metadata": {
    "id": "19ac43e1"
   },
   "source": [
    "\n",
    "### 2.a. Clean the 'Poem' column as questioned below.  ( 15 Marks)\n",
    "\n",
    "- Convert to lower case. (Marks-5)\n",
    "- Remove stop-words. (Marks-3)\n",
    "- Remove punctuations (Marks-3)\n",
    "- Perform Stemming (Marks - 3 )\n",
    "- Perform Lemmatization (Marks - 3)"
   ]
  },
  {
   "cell_type": "code",
   "execution_count": 51,
   "id": "9cf6c8db-2a0a-422e-ae93-17fe82c2584a",
   "metadata": {},
   "outputs": [],
   "source": [
    "# Initialize stemmer and lemmatizer\n",
    "stemmer = PorterStemmer()\n",
    "lemmatizer = WordNetLemmatizer()"
   ]
  },
  {
   "cell_type": "markdown",
   "id": "dJLN6G0CNhU3",
   "metadata": {
    "id": "dJLN6G0CNhU3"
   },
   "source": [
    "### Part 1 :Tokenize"
   ]
  },
  {
   "cell_type": "code",
   "execution_count": 52,
   "id": "d5fe3e20-1f74-485e-8d10-b5d47acb56b9",
   "metadata": {},
   "outputs": [],
   "source": [
    "# 1. Tokenize the text\n",
    "def tokenize(text):\n",
    "    return word_tokenize(text)"
   ]
  },
  {
   "cell_type": "code",
   "execution_count": null,
   "id": "f5BcGgAW6y_c",
   "metadata": {
    "id": "f5BcGgAW6y_c"
   },
   "outputs": [],
   "source": []
  },
  {
   "cell_type": "markdown",
   "id": "0dU3e3LXNuqc",
   "metadata": {
    "id": "0dU3e3LXNuqc"
   },
   "source": [
    "### Part 2 : Lower Case"
   ]
  },
  {
   "cell_type": "code",
   "execution_count": 53,
   "id": "PxdupchF61ta",
   "metadata": {
    "id": "PxdupchF61ta"
   },
   "outputs": [],
   "source": [
    "# 2. Convert to lower case\n",
    "def to_lower(tokens):\n",
    "    return [token.lower() for token in tokens]"
   ]
  },
  {
   "cell_type": "markdown",
   "id": "4ptl3yPuNygE",
   "metadata": {
    "id": "4ptl3yPuNygE"
   },
   "source": [
    "### Part 3 : Removing Stopwords"
   ]
  },
  {
   "cell_type": "code",
   "execution_count": 54,
   "id": "fWLL7d-B62dm",
   "metadata": {
    "id": "fWLL7d-B62dm"
   },
   "outputs": [],
   "source": [
    "# 3. Remove stop-words\n",
    "def remove_stopwords(tokens):\n",
    "    stop_words = set(stopwords.words('english'))\n",
    "    return [token for token in tokens if token not in stop_words]"
   ]
  },
  {
   "cell_type": "code",
   "execution_count": null,
   "id": "NpwYyxLk6_LY",
   "metadata": {
    "id": "NpwYyxLk6_LY"
   },
   "outputs": [],
   "source": []
  },
  {
   "cell_type": "code",
   "execution_count": null,
   "id": "YMYeBgXV6_em",
   "metadata": {
    "id": "YMYeBgXV6_em"
   },
   "outputs": [],
   "source": []
  },
  {
   "cell_type": "markdown",
   "id": "zGV4Z_2zN3rL",
   "metadata": {
    "id": "zGV4Z_2zN3rL"
   },
   "source": [
    "#### Removing Punctuation"
   ]
  },
  {
   "cell_type": "code",
   "execution_count": 55,
   "id": "afcf65e9-9ef0-4318-949a-1aa75f29dbec",
   "metadata": {},
   "outputs": [],
   "source": [
    "# 4. Remove punctuation\n",
    "def remove_punctuation(tokens):\n",
    "    return [token for token in tokens if token not in string.punctuation]"
   ]
  },
  {
   "cell_type": "code",
   "execution_count": null,
   "id": "T4XzfFNg7AUn",
   "metadata": {
    "id": "T4XzfFNg7AUn"
   },
   "outputs": [],
   "source": []
  },
  {
   "cell_type": "markdown",
   "id": "Gx4sorr2OHwJ",
   "metadata": {
    "id": "Gx4sorr2OHwJ"
   },
   "source": [
    "### Part 4 : Stemming & Lemitization"
   ]
  },
  {
   "cell_type": "code",
   "execution_count": null,
   "id": "PGqhWnin7Ffg",
   "metadata": {
    "id": "PGqhWnin7Ffg"
   },
   "outputs": [],
   "source": []
  },
  {
   "cell_type": "markdown",
   "id": "0T_WHZl7OPVX",
   "metadata": {
    "id": "0T_WHZl7OPVX"
   },
   "source": [
    "#### Stemming"
   ]
  },
  {
   "cell_type": "code",
   "execution_count": 56,
   "id": "HwCkm62H7f6l",
   "metadata": {
    "id": "HwCkm62H7f6l"
   },
   "outputs": [],
   "source": [
    "# 5. Perform stemming\n",
    "def stem_tokens(tokens):\n",
    "    return [stemmer.stem(token) for token in tokens]"
   ]
  },
  {
   "cell_type": "markdown",
   "id": "Pzoja_V-7gXj",
   "metadata": {
    "id": "Pzoja_V-7gXj"
   },
   "source": [
    "Lemmatization"
   ]
  },
  {
   "cell_type": "code",
   "execution_count": 58,
   "id": "Ub85tqMf7OMf",
   "metadata": {
    "id": "Ub85tqMf7OMf"
   },
   "outputs": [],
   "source": [
    "# 6. Perform lemmatization\n",
    "def lemmatize_tokens(tokens):\n",
    "    return [lemmatizer.lemmatize(token) for token in tokens]"
   ]
  },
  {
   "cell_type": "code",
   "execution_count": 59,
   "id": "10222cd5-d553-48d9-8265-7c08e8b8733b",
   "metadata": {},
   "outputs": [],
   "source": [
    "# Function to apply all processing steps\n",
    "def process_text(text):\n",
    "    tokens = tokenize(text)\n",
    "    tokens = to_lower(tokens)\n",
    "    tokens = remove_stopwords(tokens)\n",
    "    tokens = remove_punctuation(tokens)\n",
    "    tokens = stem_tokens(tokens)\n",
    "    tokens = lemmatize_tokens(tokens)\n",
    "    return ' '.join(tokens)"
   ]
  },
  {
   "cell_type": "code",
   "execution_count": 60,
   "id": "36cda6de-33da-45b4-b76a-21fa85cc66bb",
   "metadata": {},
   "outputs": [
    {
     "name": "stdout",
     "output_type": "stream",
     "text": [
      "                                                  Poem  \\\n",
      "0                  In the thick brushthey spend the...   \n",
      "1       Storms are generous.                       ...   \n",
      "2     —After Ana Mendieta Did you carry around the ...   \n",
      "3     for Aja Sherrard at 20The portent may itself ...   \n",
      "4     for Bob Marley, Bavaria, November 1980 Here i...   \n",
      "..                                                 ...   \n",
      "985  To pick a tulip from the garden, the red one. ...   \n",
      "986  We are as clouds that veil the midnight moon; ...   \n",
      "987  When pulled, the spider web took another form....   \n",
      "988  Whose woods these are I think I know. His hous...   \n",
      "989  you can make the maples blazejust by stopping ...   \n",
      "\n",
      "                                        Processed_Poem  \n",
      "0    thick brushthei spend hottest part dai soak ho...  \n",
      "1    storm gener someth easi surrend sit window ste...  \n",
      "2    —after ana mendieta carri around matin star ho...  \n",
      "3    aja sherrard 20the portent mai memori —wallac ...  \n",
      "4    bob marlei bavaria novemb 1980 brilliant morn ...  \n",
      "..                                                 ...  \n",
      "985  pick tulip garden red on put desk small blue v...  \n",
      "986  cloud veil midnight moon restlessli speed glea...  \n",
      "987  pull spider web took anoth form.th bull ’ s-ey...  \n",
      "988           whose wood think know hous villag though  \n",
      "989  make mapl blazejust stop look set clock barkso...  \n",
      "\n",
      "[987 rows x 2 columns]\n"
     ]
    }
   ],
   "source": [
    "from nltk.tokenize import word_tokenize\n",
    "# Apply the processing function to each poem\n",
    "df['Processed_Poem'] = df['Poem'].apply(process_text)\n",
    "\n",
    "# Show the processed DataFrame\n",
    "print(df[['Poem', 'Processed_Poem']])"
   ]
  },
  {
   "cell_type": "markdown",
   "id": "F8SWZvyn1PNF",
   "metadata": {
    "id": "F8SWZvyn1PNF"
   },
   "source": [
    "### 2.b Which words in the original 'Poem' column have the highest frequency of repetition, and what is their percentage relative to the total word count? (10 marks)\n",
    "\n"
   ]
  },
  {
   "cell_type": "code",
   "execution_count": 40,
   "id": "cD0gFZPj0bln",
   "metadata": {
    "id": "cD0gFZPj0bln"
   },
   "outputs": [
    {
     "name": "stdout",
     "output_type": "stream",
     "text": [
      "Top 10 repeated words and their percentages in 'Poem':\n"
     ]
    }
   ],
   "source": [
    "# Calculate the total number of words\n",
    "\n",
    "# Find the most repeated words\n",
    "\n",
    "# Calculate the percentage of each repeated word relative to the total word count\n",
    "\n",
    "# Display the results\n",
    "print(\"Top 10 repeated words and their percentages in 'Poem':\")\n",
    "\n",
    "# Visualize the data\n"
   ]
  },
  {
   "cell_type": "code",
   "execution_count": 68,
   "id": "adbce316-72a1-472a-9bbb-04114cc66b82",
   "metadata": {},
   "outputs": [
    {
     "name": "stdout",
     "output_type": "stream",
     "text": [
      "Top 10 repeated words and their percentages in 'Poem' (excluding stop-words and punctuation):\n",
      "Word: 'like', Count: 188, Percentage: 0.73%\n",
      "Word: 'love', Count: 164, Percentage: 0.64%\n",
      "Word: 'one', Count: 148, Percentage: 0.57%\n",
      "Word: 's', Count: 119, Percentage: 0.46%\n",
      "Word: 'night', Count: 92, Percentage: 0.36%\n",
      "Word: 'day', Count: 79, Percentage: 0.31%\n",
      "Word: 'us', Count: 77, Percentage: 0.30%\n",
      "Word: 'white', Count: 74, Percentage: 0.29%\n",
      "Word: 'would', Count: 73, Percentage: 0.28%\n",
      "Word: 'see', Count: 72, Percentage: 0.28%\n"
     ]
    },
    {
     "name": "stderr",
     "output_type": "stream",
     "text": [
      "[nltk_data] Downloading package punkt to\n",
      "[nltk_data]     /Users/abirkumarbose/nltk_data...\n",
      "[nltk_data]   Package punkt is already up-to-date!\n",
      "[nltk_data] Downloading package stopwords to\n",
      "[nltk_data]     /Users/abirkumarbose/nltk_data...\n",
      "[nltk_data]   Package stopwords is already up-to-date!\n"
     ]
    },
    {
     "data": {
      "image/png": "[encoded data removed]",
      "text/plain": [
       "<Figure size 1000x600 with 1 Axes>"
      ]
     },
     "metadata": {},
     "output_type": "display_data"
    }
   ],
   "source": [
    "import pandas as pd\n",
    "from collections import Counter\n",
    "import string\n",
    "import nltk\n",
    "import re\n",
    "from nltk.corpus import stopwords\n",
    "from nltk.tokenize import word_tokenize\n",
    "import matplotlib.pyplot as plt\n",
    "\n",
    "# Download necessary NLTK resources\n",
    "#nltk.download('punkt')\n",
    "#nltk.download('stopwords')\n",
    "\n",
    "\n",
    "\n",
    "# Initialize the set of stop words\n",
    "stop_words = set(stopwords.words('english'))\n",
    "\n",
    "# Tokenization, lowercasing, and stop-word removal function with punctuation and apostrophe removal\n",
    "def tokenize_and_lower(text):\n",
    "    # Tokenize and convert to lower case\n",
    "    tokens = word_tokenize(text)\n",
    "    # Remove stop words, punctuation (including apostrophes), and blank spaces, and convert to lowercase\n",
    "    tokens = [\n",
    "        re.sub(r\"[^\\w\\s]\", \"\", token.lower())  # Remove all punctuation (including apostrophes)\n",
    "        for token in tokens\n",
    "        if token.lower() not in stop_words and token not in string.punctuation and token.strip() != \"\"\n",
    "    ]\n",
    "    return tokens\n",
    "\n",
    "# Apply the function to all poems\n",
    "all_tokens = []\n",
    "for poem in df['Poem']:\n",
    "    all_tokens.extend(tokenize_and_lower(poem))\n",
    "\n",
    "# Filter out empty strings from tokens\n",
    "all_tokens = [token for token in all_tokens if token != \"\"]\n",
    "\n",
    "# Calculate the total word count\n",
    "total_word_count = len(all_tokens)\n",
    "\n",
    "# Find the most common words\n",
    "word_counts = Counter(all_tokens)\n",
    "most_common_words = word_counts.most_common()\n",
    "\n",
    "# Calculate the percentage of each word relative to the total word count\n",
    "word_percentages = [(word, count, (count / total_word_count) * 100) for word, count in most_common_words]\n",
    "\n",
    "# Display the top 10 repeated words and their percentages\n",
    "print(\"Top 10 repeated words and their percentages in 'Poem' (excluding stop-words and punctuation):\")\n",
    "for word, count, percentage in word_percentages[:10]:\n",
    "    print(f\"Word: '{word}', Count: {count}, Percentage: {percentage:.2f}%\")\n",
    "\n",
    "# Visualize the top 10 most common words and their percentages\n",
    "top_10_words = word_percentages[:10]\n",
    "words, counts, percentages = zip(*top_10_words)\n",
    "\n",
    "# Plotting the data\n",
    "plt.figure(figsize=(10, 6))\n",
    "plt.barh(words, percentages, color='skyblue')\n",
    "plt.xlabel('Percentage of Total Word Count (%)')\n",
    "plt.title('Top 10 Most Repeated Words and Their Percentages (Excluding Stop-Words, Punctuation, and Blank Spaces)')\n",
    "plt.gca().invert_yaxis()\n",
    "plt.show()\n"
   ]
  },
  {
   "cell_type": "markdown",
   "id": "C15pRE_qzd20",
   "metadata": {
    "id": "C15pRE_qzd20"
   },
   "source": [
    "### 2.c What is the average sentence length in terms of words in the 'Poem' column? (5 marks)\n",
    "\n"
   ]
  },
  {
   "cell_type": "code",
   "execution_count": null,
   "id": "RI4vh3n0yoDF",
   "metadata": {
    "id": "RI4vh3n0yoDF"
   },
   "outputs": [],
   "source": [
    "# Calculate the sentence lengths\n",
    "\n",
    "# Calculate the average sentence length\n"
   ]
  },
  {
   "cell_type": "code",
   "execution_count": 83,
   "id": "282f0069-f557-4560-b3ca-770bc61bbcc1",
   "metadata": {},
   "outputs": [
    {
     "name": "stdout",
     "output_type": "stream",
     "text": [
      "\n",
      "Overall average sentence length across all poems: 33.54\n",
      "Sentence lengths for each poem:\n"
     ]
    },
    {
     "data": {
      "text/html": [
       "<div>\n",
       "<style scoped>\n",
       "    .dataframe tbody tr th:only-of-type {\n",
       "        vertical-align: middle;\n",
       "    }\n",
       "\n",
       "    .dataframe tbody tr th {\n",
       "        vertical-align: top;\n",
       "    }\n",
       "\n",
       "    .dataframe thead th {\n",
       "        text-align: right;\n",
       "    }\n",
       "</style>\n",
       "<table border=\"1\" class=\"dataframe\">\n",
       "  <thead>\n",
       "    <tr style=\"text-align: right;\">\n",
       "      <th></th>\n",
       "      <th>Poem</th>\n",
       "      <th>Sentence Lengths</th>\n",
       "      <th>Average Sentence Length</th>\n",
       "    </tr>\n",
       "  </thead>\n",
       "  <tbody>\n",
       "    <tr>\n",
       "      <th>0</th>\n",
       "      <td>In the thick brushthey spend the...</td>\n",
       "      <td>[28]</td>\n",
       "      <td>28.000000</td>\n",
       "    </tr>\n",
       "    <tr>\n",
       "      <th>1</th>\n",
       "      <td>Storms are generous.                       ...</td>\n",
       "      <td>[4, 26]</td>\n",
       "      <td>15.000000</td>\n",
       "    </tr>\n",
       "    <tr>\n",
       "      <th>2</th>\n",
       "      <td>—After Ana Mendieta Did you carry around the ...</td>\n",
       "      <td>[11, 8, 11, 17]</td>\n",
       "      <td>11.750000</td>\n",
       "    </tr>\n",
       "    <tr>\n",
       "      <th>3</th>\n",
       "      <td>for Aja Sherrard at 20The portent may itself ...</td>\n",
       "      <td>[11, 27, 3]</td>\n",
       "      <td>13.666667</td>\n",
       "    </tr>\n",
       "    <tr>\n",
       "      <th>4</th>\n",
       "      <td>for Bob Marley, Bavaria, November 1980 Here i...</td>\n",
       "      <td>[42]</td>\n",
       "      <td>42.000000</td>\n",
       "    </tr>\n",
       "    <tr>\n",
       "      <th>...</th>\n",
       "      <td>...</td>\n",
       "      <td>...</td>\n",
       "      <td>...</td>\n",
       "    </tr>\n",
       "    <tr>\n",
       "      <th>985</th>\n",
       "      <td>To pick a tulip from the garden, the red one. ...</td>\n",
       "      <td>[12, 14, 23, 4]</td>\n",
       "      <td>13.250000</td>\n",
       "    </tr>\n",
       "    <tr>\n",
       "      <th>986</th>\n",
       "      <td>We are as clouds that veil the midnight moon; ...</td>\n",
       "      <td>[60]</td>\n",
       "      <td>60.000000</td>\n",
       "    </tr>\n",
       "    <tr>\n",
       "      <th>987</th>\n",
       "      <td>When pulled, the spider web took another form....</td>\n",
       "      <td>[40, 11, 8]</td>\n",
       "      <td>19.666667</td>\n",
       "    </tr>\n",
       "    <tr>\n",
       "      <th>988</th>\n",
       "      <td>Whose woods these are I think I know. His hous...</td>\n",
       "      <td>[9, 7]</td>\n",
       "      <td>8.000000</td>\n",
       "    </tr>\n",
       "    <tr>\n",
       "      <th>989</th>\n",
       "      <td>you can make the maples blazejust by stopping ...</td>\n",
       "      <td>[21, 28]</td>\n",
       "      <td>24.500000</td>\n",
       "    </tr>\n",
       "  </tbody>\n",
       "</table>\n",
       "<p>987 rows × 3 columns</p>\n",
       "</div>"
      ],
      "text/plain": [
       "                                                  Poem Sentence Lengths  \\\n",
       "0                  In the thick brushthey spend the...             [28]   \n",
       "1       Storms are generous.                       ...          [4, 26]   \n",
       "2     —After Ana Mendieta Did you carry around the ...  [11, 8, 11, 17]   \n",
       "3     for Aja Sherrard at 20The portent may itself ...      [11, 27, 3]   \n",
       "4     for Bob Marley, Bavaria, November 1980 Here i...             [42]   \n",
       "..                                                 ...              ...   \n",
       "985  To pick a tulip from the garden, the red one. ...  [12, 14, 23, 4]   \n",
       "986  We are as clouds that veil the midnight moon; ...             [60]   \n",
       "987  When pulled, the spider web took another form....      [40, 11, 8]   \n",
       "988  Whose woods these are I think I know. His hous...           [9, 7]   \n",
       "989  you can make the maples blazejust by stopping ...         [21, 28]   \n",
       "\n",
       "     Average Sentence Length  \n",
       "0                  28.000000  \n",
       "1                  15.000000  \n",
       "2                  11.750000  \n",
       "3                  13.666667  \n",
       "4                  42.000000  \n",
       "..                       ...  \n",
       "985                13.250000  \n",
       "986                60.000000  \n",
       "987                19.666667  \n",
       "988                 8.000000  \n",
       "989                24.500000  \n",
       "\n",
       "[987 rows x 3 columns]"
      ]
     },
     "execution_count": 83,
     "metadata": {},
     "output_type": "execute_result"
    }
   ],
   "source": [
    "import pandas as pd\n",
    "import nltk\n",
    "from nltk.tokenize import sent_tokenize, word_tokenize\n",
    "\n",
    "\n",
    "# Function to calculate the sentence lengths (in terms of word count)\n",
    "def calculate_sentence_lengths(text):\n",
    "    # Split the text into sentences\n",
    "    sentences = sent_tokenize(text)\n",
    "    \n",
    "    # Calculate the number of words in each sentence\n",
    "    sentence_lengths = [len(word_tokenize(sentence)) for sentence in sentences]\n",
    "    \n",
    "    return sentence_lengths\n",
    "\n",
    "# Apply the function to the 'Poem' column to get sentence lengths\n",
    "df['Sentence Lengths'] = df['Poem'].apply(calculate_sentence_lengths)\n",
    "\n",
    "# Calculate the average sentence length for each poem\n",
    "df['Average Sentence Length'] = df['Sentence Lengths'].apply(lambda x: sum(x) / len(x) if len(x) > 0 else 0)\n",
    "\n",
    "# Calculate the overall average sentence length across all poems\n",
    "overall_average_length = df['Average Sentence Length'].mean()\n",
    "\n",
    "# Display the sentence lengths for each poem and the overall average sentence length\n",
    "\n",
    "\n",
    "\n",
    "print(f\"\\nOverall average sentence length across all poems: {overall_average_length:.2f}\")\n",
    "print(\"Sentence lengths for each poem:\")\n",
    "df[['Poem', 'Sentence Lengths', 'Average Sentence Length']]\n"
   ]
  },
  {
   "cell_type": "markdown",
   "id": "5C6wRkNwzrlr",
   "metadata": {
    "id": "5C6wRkNwzrlr"
   },
   "source": [
    "### 2.d What are the unique word counts in the 'Poem' column, and how many words appear only once? ( 5 marks)"
   ]
  },
  {
   "cell_type": "code",
   "execution_count": null,
   "id": "Wkjc5ODmyx8o",
   "metadata": {
    "id": "Wkjc5ODmyx8o"
   },
   "outputs": [],
   "source": [
    "# Count unique words\n",
    "\n"
   ]
  },
  {
   "cell_type": "code",
   "execution_count": 88,
   "id": "bea193f6-4558-4487-8032-6ff919670cbd",
   "metadata": {},
   "outputs": [
    {
     "name": "stdout",
     "output_type": "stream",
     "text": [
      "Total number of unique words: 9721\n",
      "Number of words that appear only once: 6398\n"
     ]
    }
   ],
   "source": [
    "\n",
    "\n",
    "# Initialize the set of stop words\n",
    "stop_words = set(nltk.corpus.stopwords.words('english'))\n",
    "\n",
    "# Tokenization and stop-word removal function with punctuation removal\n",
    "def tokenize_and_lower(text):\n",
    "    # Tokenize and convert to lower case\n",
    "    tokens = word_tokenize(text)\n",
    "    # Remove stop words, punctuation (including apostrophes), and convert to lowercase\n",
    "    tokens = [\n",
    "        re.sub(r\"[^\\w\\s]\", \"\", token.lower())  # Remove all punctuation (including apostrophes)\n",
    "        for token in tokens\n",
    "        if token.lower() not in stop_words and token not in string.punctuation and token.strip() != \"\"\n",
    "    ]\n",
    "    return tokens\n",
    "\n",
    "# Apply the function to all poems\n",
    "all_tokens = []\n",
    "for poem in df['Poem']:\n",
    "    all_tokens.extend(tokenize_and_lower(poem))\n",
    "\n",
    "# Count the occurrences of each word\n",
    "word_counts = Counter(all_tokens)\n",
    "\n",
    "# Calculate the number of unique words\n",
    "unique_word_count = len(word_counts)\n",
    "\n",
    "# Identify words that appear only once\n",
    "words_once = [word for word, count in word_counts.items() if count == 1]\n",
    "words_once_count = len(words_once)\n",
    "\n",
    "# Display the results\n",
    "print(f\"Total number of unique words: {unique_word_count}\")\n",
    "print(f\"Number of words that appear only once: {words_once_count}\")\n"
   ]
  },
  {
   "cell_type": "markdown",
   "id": "nMI2vfd1z4sN",
   "metadata": {
    "id": "nMI2vfd1z4sN"
   },
   "source": [
    "### 2.e. What is the distribution of word lengths in the 'Poem' column? ( 5 marks)"
   ]
  },
  {
   "cell_type": "code",
   "execution_count": null,
   "id": "gVAvPuf5y4iE",
   "metadata": {
    "id": "gVAvPuf5y4iE"
   },
   "outputs": [],
   "source": [
    "# Calculate word lengths\n",
    "\n",
    "# Count the frequency of each word length\n",
    "\n",
    "# Sort by word length\n",
    "\n",
    "# Display the distribution\n",
    "\n",
    "# Plot the distribution\n"
   ]
  },
  {
   "cell_type": "code",
   "execution_count": 91,
   "id": "a893fa64-2041-4a94-bf84-97cadab6b347",
   "metadata": {},
   "outputs": [
    {
     "name": "stdout",
     "output_type": "stream",
     "text": [
      "Word length distribution:\n",
      "Word length 1: 2933 words\n",
      "Word length 2: 7280 words\n",
      "Word length 3: 9826 words\n",
      "Word length 4: 9000 words\n",
      "Word length 5: 6061 words\n",
      "Word length 6: 4205 words\n",
      "Word length 7: 3200 words\n",
      "Word length 8: 1965 words\n",
      "Word length 9: 1280 words\n",
      "Word length 10: 729 words\n",
      "Word length 11: 456 words\n",
      "Word length 12: 264 words\n",
      "Word length 13: 172 words\n",
      "Word length 14: 100 words\n",
      "Word length 15: 60 words\n",
      "Word length 16: 53 words\n",
      "Word length 17: 29 words\n",
      "Word length 18: 22 words\n",
      "Word length 19: 19 words\n",
      "Word length 20: 5 words\n",
      "Word length 21: 3 words\n",
      "Word length 22: 1 words\n",
      "Word length 25: 1 words\n"
     ]
    },
    {
     "data": {
      "image/png": "[encoded data removed]",
      "text/plain": [
       "<Figure size 1000x600 with 1 Axes>"
      ]
     },
     "metadata": {},
     "output_type": "display_data"
    }
   ],
   "source": [
    "import pandas as pd\n",
    "import nltk\n",
    "from nltk.tokenize import word_tokenize\n",
    "from collections import Counter\n",
    "import string\n",
    "import re\n",
    "import matplotlib.pyplot as plt\n",
    "\n",
    "\n",
    "\n",
    "# Tokenization and preprocessing function\n",
    "def tokenize_and_clean(text):\n",
    "    # Tokenize and convert to lower case\n",
    "    tokens = word_tokenize(text)\n",
    "    # Remove punctuation, stop words, and whitespace-only tokens\n",
    "    cleaned_tokens = [\n",
    "        re.sub(r\"[^\\w\\s]\", \"\", token.lower())  # Remove all punctuation\n",
    "        for token in tokens\n",
    "        if token.strip() != \"\"  # Remove empty tokens\n",
    "    ]\n",
    "    return cleaned_tokens\n",
    "\n",
    "# Apply the function to all poems and get all tokens\n",
    "all_tokens = []\n",
    "for poem in df['Poem']:\n",
    "    all_tokens.extend(tokenize_and_clean(poem))\n",
    "\n",
    "# Calculate the length of each word\n",
    "word_lengths = [len(word) for word in all_tokens if len(word) > 0]\n",
    "\n",
    "# Count the frequency of each word length\n",
    "length_counts = Counter(word_lengths)\n",
    "\n",
    "# Sort by word length\n",
    "sorted_length_counts = dict(sorted(length_counts.items()))\n",
    "\n",
    "# Display the distribution\n",
    "print(\"Word length distribution:\")\n",
    "for length, count in sorted_length_counts.items():\n",
    "    print(f\"Word length {length}: {count} words\")\n",
    "\n",
    "# Plot the distribution\n",
    "plt.figure(figsize=(10, 6))\n",
    "plt.bar(sorted_length_counts.keys(), sorted_length_counts.values(), color='skyblue')\n",
    "plt.xlabel('Word Length')\n",
    "plt.ylabel('Frequency')\n",
    "plt.title('Distribution of Word Lengths in the Poem Column')\n",
    "plt.xticks(range(1, max(sorted_length_counts.keys()) + 1))\n",
    "plt.show()\n"
   ]
  },
  {
   "cell_type": "markdown",
   "id": "bab744a5",
   "metadata": {
    "id": "bab744a5"
   },
   "source": [
    "## Section C\n",
    "Use the original dataFrame in order to build ML model as questioned below.\n"
   ]
  },
  {
   "cell_type": "code",
   "execution_count": 92,
   "id": "017688b8-3b77-4ce9-b09d-7862988749f8",
   "metadata": {},
   "outputs": [
    {
     "data": {
      "text/html": [
       "<div>\n",
       "<style scoped>\n",
       "    .dataframe tbody tr th:only-of-type {\n",
       "        vertical-align: middle;\n",
       "    }\n",
       "\n",
       "    .dataframe tbody tr th {\n",
       "        vertical-align: top;\n",
       "    }\n",
       "\n",
       "    .dataframe thead th {\n",
       "        text-align: right;\n",
       "    }\n",
       "</style>\n",
       "<table border=\"1\" class=\"dataframe\">\n",
       "  <thead>\n",
       "    <tr style=\"text-align: right;\">\n",
       "      <th></th>\n",
       "      <th>Genre</th>\n",
       "      <th>Poem</th>\n",
       "      <th>Processed_Poem</th>\n",
       "      <th>Sentence Lengths</th>\n",
       "      <th>Average Sentence Length</th>\n",
       "    </tr>\n",
       "  </thead>\n",
       "  <tbody>\n",
       "    <tr>\n",
       "      <th>0</th>\n",
       "      <td>Music</td>\n",
       "      <td>In the thick brushthey spend the...</td>\n",
       "      <td>thick brushthei spend hottest part dai soak ho...</td>\n",
       "      <td>[28]</td>\n",
       "      <td>28.000000</td>\n",
       "    </tr>\n",
       "    <tr>\n",
       "      <th>1</th>\n",
       "      <td>Music</td>\n",
       "      <td>Storms are generous.                       ...</td>\n",
       "      <td>storm gener someth easi surrend sit window ste...</td>\n",
       "      <td>[4, 26]</td>\n",
       "      <td>15.000000</td>\n",
       "    </tr>\n",
       "    <tr>\n",
       "      <th>2</th>\n",
       "      <td>Music</td>\n",
       "      <td>—After Ana Mendieta Did you carry around the ...</td>\n",
       "      <td>—after ana mendieta carri around matin star ho...</td>\n",
       "      <td>[11, 8, 11, 17]</td>\n",
       "      <td>11.750000</td>\n",
       "    </tr>\n",
       "    <tr>\n",
       "      <th>3</th>\n",
       "      <td>Music</td>\n",
       "      <td>for Aja Sherrard at 20The portent may itself ...</td>\n",
       "      <td>aja sherrard 20the portent mai memori —wallac ...</td>\n",
       "      <td>[11, 27, 3]</td>\n",
       "      <td>13.666667</td>\n",
       "    </tr>\n",
       "    <tr>\n",
       "      <th>4</th>\n",
       "      <td>Music</td>\n",
       "      <td>for Bob Marley, Bavaria, November 1980 Here i...</td>\n",
       "      <td>bob marlei bavaria novemb 1980 brilliant morn ...</td>\n",
       "      <td>[42]</td>\n",
       "      <td>42.000000</td>\n",
       "    </tr>\n",
       "    <tr>\n",
       "      <th>5</th>\n",
       "      <td>Music</td>\n",
       "      <td>For Frank X WalkerFXW: I don’t know how to sw...</td>\n",
       "      <td>frank x walkerfxw ’ know swim fxw pool black f...</td>\n",
       "      <td>[18, 33, 6]</td>\n",
       "      <td>19.000000</td>\n",
       "    </tr>\n",
       "    <tr>\n",
       "      <th>6</th>\n",
       "      <td>Music</td>\n",
       "      <td>My neighbor to the left had a stroke a couple...</td>\n",
       "      <td>neighbor left stroke coupl year ago ’ look lik...</td>\n",
       "      <td>[13, 19, 10]</td>\n",
       "      <td>14.000000</td>\n",
       "    </tr>\n",
       "    <tr>\n",
       "      <th>7</th>\n",
       "      <td>Music</td>\n",
       "      <td>—for a sixty-seven-pound nugget of Lake Superi...</td>\n",
       "      <td>—for sixty-seven-pound nugget lake superior co...</td>\n",
       "      <td>[42]</td>\n",
       "      <td>42.000000</td>\n",
       "    </tr>\n",
       "    <tr>\n",
       "      <th>8</th>\n",
       "      <td>Music</td>\n",
       "      <td>—Issa Rae Everybody Black is my hometown team....</td>\n",
       "      <td>—issa rae everybodi black hometown team everyb...</td>\n",
       "      <td>[9, 11, 12, 7]</td>\n",
       "      <td>9.750000</td>\n",
       "    </tr>\n",
       "    <tr>\n",
       "      <th>9</th>\n",
       "      <td>Music</td>\n",
       "      <td>\"Save your hands,” my mother says, seeing me u...</td>\n",
       "      <td>`` save hand ” mother sai see untwist jar 's t...</td>\n",
       "      <td>[53, 16, 2]</td>\n",
       "      <td>23.666667</td>\n",
       "    </tr>\n",
       "    <tr>\n",
       "      <th>10</th>\n",
       "      <td>Music</td>\n",
       "      <td>“It’s all empty, empty,”he said to himself. “T...</td>\n",
       "      <td>“ ’ empti empti ” said “ sex drug violenc espe...</td>\n",
       "      <td>[15, 6, 23, 10, 15, 3]</td>\n",
       "      <td>12.000000</td>\n",
       "    </tr>\n",
       "    <tr>\n",
       "      <th>11</th>\n",
       "      <td>Music</td>\n",
       "      <td>(for Ntozake Shange)I used to be a roller coas...</td>\n",
       "      <td>ntozak shang u roller coaster girl 7 time row ...</td>\n",
       "      <td>[29]</td>\n",
       "      <td>29.000000</td>\n",
       "    </tr>\n",
       "    <tr>\n",
       "      <th>12</th>\n",
       "      <td>Music</td>\n",
       "      <td>(the passports curled up) (it was so humid in ...</td>\n",
       "      <td>passport curl humid rent room travel forget cr...</td>\n",
       "      <td>[38]</td>\n",
       "      <td>38.000000</td>\n",
       "    </tr>\n",
       "    <tr>\n",
       "      <th>13</th>\n",
       "      <td>Music</td>\n",
       "      <td>{on the occasion of Martin Puryear’s Noblesse ...</td>\n",
       "      <td>occas martin puryear ’ noble ’ red cedar alumi...</td>\n",
       "      <td>[72]</td>\n",
       "      <td>72.000000</td>\n",
       "    </tr>\n",
       "    <tr>\n",
       "      <th>14</th>\n",
       "      <td>Music</td>\n",
       "      <td>1 Muddled stillnessAll summer SunPunched the y...</td>\n",
       "      <td>1 muddl stillnessal summer sunpunch yellow jac...</td>\n",
       "      <td>[37]</td>\n",
       "      <td>37.000000</td>\n",
       "    </tr>\n",
       "    <tr>\n",
       "      <th>15</th>\n",
       "      <td>Music</td>\n",
       "      <td>1. lush field of shadows, static hush and radi...</td>\n",
       "      <td>1. lush field shadow static hush radial itch p...</td>\n",
       "      <td>[14, 10, 8, 13]</td>\n",
       "      <td>11.250000</td>\n",
       "    </tr>\n",
       "    <tr>\n",
       "      <th>16</th>\n",
       "      <td>Music</td>\n",
       "      <td>7. Letters arrived in intervals, as with every...</td>\n",
       "      <td>7. letter arriv interv everyth el on might com...</td>\n",
       "      <td>[27, 6, 3, 7, 17]</td>\n",
       "      <td>12.000000</td>\n",
       "    </tr>\n",
       "    <tr>\n",
       "      <th>17</th>\n",
       "      <td>Music</td>\n",
       "      <td>A crocodile slips its earth-toned bodyback int...</td>\n",
       "      <td>crocodil slip earth-ton bodyback river silenc ...</td>\n",
       "      <td>[25, 5, 13, 15]</td>\n",
       "      <td>14.500000</td>\n",
       "    </tr>\n",
       "    <tr>\n",
       "      <th>18</th>\n",
       "      <td>Music</td>\n",
       "      <td>A long night I spent thinking that reality was...</td>\n",
       "      <td>long night spent think realiti stori human spe...</td>\n",
       "      <td>[61]</td>\n",
       "      <td>61.000000</td>\n",
       "    </tr>\n",
       "    <tr>\n",
       "      <th>19</th>\n",
       "      <td>Music</td>\n",
       "      <td>A man can’t die where there is no earth becaus...</td>\n",
       "      <td>man ’ die earth place buri bodi sky understand...</td>\n",
       "      <td>[21, 12, 20, 6]</td>\n",
       "      <td>14.750000</td>\n",
       "    </tr>\n",
       "  </tbody>\n",
       "</table>\n",
       "</div>"
      ],
      "text/plain": [
       "    Genre                                               Poem  \\\n",
       "0   Music                In the thick brushthey spend the...   \n",
       "1   Music     Storms are generous.                       ...   \n",
       "2   Music   —After Ana Mendieta Did you carry around the ...   \n",
       "3   Music   for Aja Sherrard at 20The portent may itself ...   \n",
       "4   Music   for Bob Marley, Bavaria, November 1980 Here i...   \n",
       "5   Music   For Frank X WalkerFXW: I don’t know how to sw...   \n",
       "6   Music   My neighbor to the left had a stroke a couple...   \n",
       "7   Music  —for a sixty-seven-pound nugget of Lake Superi...   \n",
       "8   Music  —Issa Rae Everybody Black is my hometown team....   \n",
       "9   Music  \"Save your hands,” my mother says, seeing me u...   \n",
       "10  Music  “It’s all empty, empty,”he said to himself. “T...   \n",
       "11  Music  (for Ntozake Shange)I used to be a roller coas...   \n",
       "12  Music  (the passports curled up) (it was so humid in ...   \n",
       "13  Music  {on the occasion of Martin Puryear’s Noblesse ...   \n",
       "14  Music  1 Muddled stillnessAll summer SunPunched the y...   \n",
       "15  Music  1. lush field of shadows, static hush and radi...   \n",
       "16  Music  7. Letters arrived in intervals, as with every...   \n",
       "17  Music  A crocodile slips its earth-toned bodyback int...   \n",
       "18  Music  A long night I spent thinking that reality was...   \n",
       "19  Music  A man can’t die where there is no earth becaus...   \n",
       "\n",
       "                                       Processed_Poem        Sentence Lengths  \\\n",
       "0   thick brushthei spend hottest part dai soak ho...                    [28]   \n",
       "1   storm gener someth easi surrend sit window ste...                 [4, 26]   \n",
       "2   —after ana mendieta carri around matin star ho...         [11, 8, 11, 17]   \n",
       "3   aja sherrard 20the portent mai memori —wallac ...             [11, 27, 3]   \n",
       "4   bob marlei bavaria novemb 1980 brilliant morn ...                    [42]   \n",
       "5   frank x walkerfxw ’ know swim fxw pool black f...             [18, 33, 6]   \n",
       "6   neighbor left stroke coupl year ago ’ look lik...            [13, 19, 10]   \n",
       "7   —for sixty-seven-pound nugget lake superior co...                    [42]   \n",
       "8   —issa rae everybodi black hometown team everyb...          [9, 11, 12, 7]   \n",
       "9   `` save hand ” mother sai see untwist jar 's t...             [53, 16, 2]   \n",
       "10  “ ’ empti empti ” said “ sex drug violenc espe...  [15, 6, 23, 10, 15, 3]   \n",
       "11  ntozak shang u roller coaster girl 7 time row ...                    [29]   \n",
       "12  passport curl humid rent room travel forget cr...                    [38]   \n",
       "13  occas martin puryear ’ noble ’ red cedar alumi...                    [72]   \n",
       "14  1 muddl stillnessal summer sunpunch yellow jac...                    [37]   \n",
       "15  1. lush field shadow static hush radial itch p...         [14, 10, 8, 13]   \n",
       "16  7. letter arriv interv everyth el on might com...       [27, 6, 3, 7, 17]   \n",
       "17  crocodil slip earth-ton bodyback river silenc ...         [25, 5, 13, 15]   \n",
       "18  long night spent think realiti stori human spe...                    [61]   \n",
       "19  man ’ die earth place buri bodi sky understand...         [21, 12, 20, 6]   \n",
       "\n",
       "    Average Sentence Length  \n",
       "0                 28.000000  \n",
       "1                 15.000000  \n",
       "2                 11.750000  \n",
       "3                 13.666667  \n",
       "4                 42.000000  \n",
       "5                 19.000000  \n",
       "6                 14.000000  \n",
       "7                 42.000000  \n",
       "8                  9.750000  \n",
       "9                 23.666667  \n",
       "10                12.000000  \n",
       "11                29.000000  \n",
       "12                38.000000  \n",
       "13                72.000000  \n",
       "14                37.000000  \n",
       "15                11.250000  \n",
       "16                12.000000  \n",
       "17                14.500000  \n",
       "18                61.000000  \n",
       "19                14.750000  "
      ]
     },
     "execution_count": 92,
     "metadata": {},
     "output_type": "execute_result"
    }
   ],
   "source": [
    "df.head(20)"
   ]
  },
  {
   "cell_type": "markdown",
   "id": "0f0e23c9",
   "metadata": {
    "id": "0f0e23c9"
   },
   "source": [
    "### 3 a. Convert the 'Poem' column into numerical using Count-vectorization. (5 marks)\n"
   ]
  },
  {
   "cell_type": "code",
   "execution_count": 96,
   "id": "CFTPg5kj8a6O",
   "metadata": {
    "id": "CFTPg5kj8a6O"
   },
   "outputs": [
    {
     "name": "stdout",
     "output_type": "stream",
     "text": [
      "Count Vectorized DataFrame:\n"
     ]
    },
    {
     "data": {
      "text/html": [
       "<div>\n",
       "<style scoped>\n",
       "    .dataframe tbody tr th:only-of-type {\n",
       "        vertical-align: middle;\n",
       "    }\n",
       "\n",
       "    .dataframe tbody tr th {\n",
       "        vertical-align: top;\n",
       "    }\n",
       "\n",
       "    .dataframe thead th {\n",
       "        text-align: right;\n",
       "    }\n",
       "</style>\n",
       "<table border=\"1\" class=\"dataframe\">\n",
       "  <thead>\n",
       "    <tr style=\"text-align: right;\">\n",
       "      <th></th>\n",
       "      <th>00</th>\n",
       "      <th>000</th>\n",
       "      <th>10maggie</th>\n",
       "      <th>12</th>\n",
       "      <th>13</th>\n",
       "      <th>15</th>\n",
       "      <th>1558</th>\n",
       "      <th>17</th>\n",
       "      <th>1865there</th>\n",
       "      <th>1908</th>\n",
       "      <th>...</th>\n",
       "      <th>zenith</th>\n",
       "      <th>zephyrs</th>\n",
       "      <th>zest</th>\n",
       "      <th>zhashagiwag</th>\n",
       "      <th>zhingwaakwag</th>\n",
       "      <th>zipperedshut</th>\n",
       "      <th>zither</th>\n",
       "      <th>zithers</th>\n",
       "      <th>zoom</th>\n",
       "      <th>ȟe</th>\n",
       "    </tr>\n",
       "  </thead>\n",
       "  <tbody>\n",
       "    <tr>\n",
       "      <th>0</th>\n",
       "      <td>0</td>\n",
       "      <td>0</td>\n",
       "      <td>0</td>\n",
       "      <td>0</td>\n",
       "      <td>0</td>\n",
       "      <td>0</td>\n",
       "      <td>0</td>\n",
       "      <td>0</td>\n",
       "      <td>0</td>\n",
       "      <td>0</td>\n",
       "      <td>...</td>\n",
       "      <td>0</td>\n",
       "      <td>0</td>\n",
       "      <td>0</td>\n",
       "      <td>0</td>\n",
       "      <td>0</td>\n",
       "      <td>0</td>\n",
       "      <td>0</td>\n",
       "      <td>0</td>\n",
       "      <td>0</td>\n",
       "      <td>0</td>\n",
       "    </tr>\n",
       "    <tr>\n",
       "      <th>1</th>\n",
       "      <td>0</td>\n",
       "      <td>0</td>\n",
       "      <td>0</td>\n",
       "      <td>0</td>\n",
       "      <td>0</td>\n",
       "      <td>0</td>\n",
       "      <td>0</td>\n",
       "      <td>0</td>\n",
       "      <td>0</td>\n",
       "      <td>0</td>\n",
       "      <td>...</td>\n",
       "      <td>0</td>\n",
       "      <td>0</td>\n",
       "      <td>0</td>\n",
       "      <td>0</td>\n",
       "      <td>0</td>\n",
       "      <td>0</td>\n",
       "      <td>0</td>\n",
       "      <td>0</td>\n",
       "      <td>0</td>\n",
       "      <td>0</td>\n",
       "    </tr>\n",
       "    <tr>\n",
       "      <th>2</th>\n",
       "      <td>0</td>\n",
       "      <td>0</td>\n",
       "      <td>0</td>\n",
       "      <td>0</td>\n",
       "      <td>0</td>\n",
       "      <td>0</td>\n",
       "      <td>0</td>\n",
       "      <td>0</td>\n",
       "      <td>0</td>\n",
       "      <td>0</td>\n",
       "      <td>...</td>\n",
       "      <td>0</td>\n",
       "      <td>0</td>\n",
       "      <td>0</td>\n",
       "      <td>0</td>\n",
       "      <td>0</td>\n",
       "      <td>0</td>\n",
       "      <td>0</td>\n",
       "      <td>0</td>\n",
       "      <td>0</td>\n",
       "      <td>0</td>\n",
       "    </tr>\n",
       "    <tr>\n",
       "      <th>3</th>\n",
       "      <td>0</td>\n",
       "      <td>0</td>\n",
       "      <td>0</td>\n",
       "      <td>0</td>\n",
       "      <td>0</td>\n",
       "      <td>0</td>\n",
       "      <td>0</td>\n",
       "      <td>0</td>\n",
       "      <td>0</td>\n",
       "      <td>0</td>\n",
       "      <td>...</td>\n",
       "      <td>0</td>\n",
       "      <td>0</td>\n",
       "      <td>0</td>\n",
       "      <td>0</td>\n",
       "      <td>0</td>\n",
       "      <td>0</td>\n",
       "      <td>0</td>\n",
       "      <td>0</td>\n",
       "      <td>0</td>\n",
       "      <td>0</td>\n",
       "    </tr>\n",
       "    <tr>\n",
       "      <th>4</th>\n",
       "      <td>0</td>\n",
       "      <td>0</td>\n",
       "      <td>0</td>\n",
       "      <td>0</td>\n",
       "      <td>0</td>\n",
       "      <td>0</td>\n",
       "      <td>0</td>\n",
       "      <td>0</td>\n",
       "      <td>0</td>\n",
       "      <td>0</td>\n",
       "      <td>...</td>\n",
       "      <td>0</td>\n",
       "      <td>0</td>\n",
       "      <td>0</td>\n",
       "      <td>0</td>\n",
       "      <td>0</td>\n",
       "      <td>0</td>\n",
       "      <td>0</td>\n",
       "      <td>0</td>\n",
       "      <td>0</td>\n",
       "      <td>0</td>\n",
       "    </tr>\n",
       "  </tbody>\n",
       "</table>\n",
       "<p>5 rows × 9219 columns</p>\n",
       "</div>"
      ],
      "text/plain": [
       "   00  000  10maggie  12  13  15  1558  17  1865there  1908  ...  zenith  \\\n",
       "0   0    0         0   0   0   0     0   0          0     0  ...       0   \n",
       "1   0    0         0   0   0   0     0   0          0     0  ...       0   \n",
       "2   0    0         0   0   0   0     0   0          0     0  ...       0   \n",
       "3   0    0         0   0   0   0     0   0          0     0  ...       0   \n",
       "4   0    0         0   0   0   0     0   0          0     0  ...       0   \n",
       "\n",
       "   zephyrs  zest  zhashagiwag  zhingwaakwag  zipperedshut  zither  zithers  \\\n",
       "0        0     0            0             0             0       0        0   \n",
       "1        0     0            0             0             0       0        0   \n",
       "2        0     0            0             0             0       0        0   \n",
       "3        0     0            0             0             0       0        0   \n",
       "4        0     0            0             0             0       0        0   \n",
       "\n",
       "   zoom  ȟe  \n",
       "0     0   0  \n",
       "1     0   0  \n",
       "2     0   0  \n",
       "3     0   0  \n",
       "4     0   0  \n",
       "\n",
       "[5 rows x 9219 columns]"
      ]
     },
     "execution_count": 96,
     "metadata": {},
     "output_type": "execute_result"
    }
   ],
   "source": [
    "import pandas as pd\n",
    "from sklearn.feature_extraction.text import CountVectorizer\n",
    "\n",
    "# Initialize CountVectorizer\n",
    "vectorizer = CountVectorizer()\n",
    "\n",
    "# Fit and transform the 'Poem' column\n",
    "X = vectorizer.fit_transform(df['Poem'])\n",
    "#X = vectorizer.fit_transform(df['Processed_Poem'])\n",
    "# Create a DataFrame from the transformed data\n",
    "df_count_vectorized = pd.DataFrame(X.toarray(), columns=vectorizer.get_feature_names_out())\n",
    "\n",
    "# Display the resulting DataFrame\n",
    "print(\"Count Vectorized DataFrame:\")\n",
    "df_count_vectorized.head()\n"
   ]
  },
  {
   "cell_type": "markdown",
   "id": "11ec0ab2",
   "metadata": {
    "id": "11ec0ab2"
   },
   "source": [
    "### 3.b. Convert the text  feature/column into numerical using TF-IDF (5-Marks)"
   ]
  },
  {
   "cell_type": "code",
   "execution_count": 98,
   "id": "oyJbYocp8cRa",
   "metadata": {
    "id": "oyJbYocp8cRa"
   },
   "outputs": [
    {
     "name": "stdout",
     "output_type": "stream",
     "text": [
      "TF-IDF Vectorized DataFrame:\n"
     ]
    },
    {
     "data": {
      "text/html": [
       "<div>\n",
       "<style scoped>\n",
       "    .dataframe tbody tr th:only-of-type {\n",
       "        vertical-align: middle;\n",
       "    }\n",
       "\n",
       "    .dataframe tbody tr th {\n",
       "        vertical-align: top;\n",
       "    }\n",
       "\n",
       "    .dataframe thead th {\n",
       "        text-align: right;\n",
       "    }\n",
       "</style>\n",
       "<table border=\"1\" class=\"dataframe\">\n",
       "  <thead>\n",
       "    <tr style=\"text-align: right;\">\n",
       "      <th></th>\n",
       "      <th>00</th>\n",
       "      <th>000</th>\n",
       "      <th>10maggie</th>\n",
       "      <th>12</th>\n",
       "      <th>13</th>\n",
       "      <th>15</th>\n",
       "      <th>1558</th>\n",
       "      <th>17</th>\n",
       "      <th>1865there</th>\n",
       "      <th>1908</th>\n",
       "      <th>...</th>\n",
       "      <th>zenith</th>\n",
       "      <th>zephyrs</th>\n",
       "      <th>zest</th>\n",
       "      <th>zhashagiwag</th>\n",
       "      <th>zhingwaakwag</th>\n",
       "      <th>zipperedshut</th>\n",
       "      <th>zither</th>\n",
       "      <th>zithers</th>\n",
       "      <th>zoom</th>\n",
       "      <th>ȟe</th>\n",
       "    </tr>\n",
       "  </thead>\n",
       "  <tbody>\n",
       "    <tr>\n",
       "      <th>0</th>\n",
       "      <td>0.0</td>\n",
       "      <td>0.0</td>\n",
       "      <td>0.0</td>\n",
       "      <td>0.0</td>\n",
       "      <td>0.0</td>\n",
       "      <td>0.0</td>\n",
       "      <td>0.0</td>\n",
       "      <td>0.0</td>\n",
       "      <td>0.0</td>\n",
       "      <td>0.0</td>\n",
       "      <td>...</td>\n",
       "      <td>0.0</td>\n",
       "      <td>0.0</td>\n",
       "      <td>0.0</td>\n",
       "      <td>0.0</td>\n",
       "      <td>0.0</td>\n",
       "      <td>0.0</td>\n",
       "      <td>0.0</td>\n",
       "      <td>0.0</td>\n",
       "      <td>0.0</td>\n",
       "      <td>0.0</td>\n",
       "    </tr>\n",
       "    <tr>\n",
       "      <th>1</th>\n",
       "      <td>0.0</td>\n",
       "      <td>0.0</td>\n",
       "      <td>0.0</td>\n",
       "      <td>0.0</td>\n",
       "      <td>0.0</td>\n",
       "      <td>0.0</td>\n",
       "      <td>0.0</td>\n",
       "      <td>0.0</td>\n",
       "      <td>0.0</td>\n",
       "      <td>0.0</td>\n",
       "      <td>...</td>\n",
       "      <td>0.0</td>\n",
       "      <td>0.0</td>\n",
       "      <td>0.0</td>\n",
       "      <td>0.0</td>\n",
       "      <td>0.0</td>\n",
       "      <td>0.0</td>\n",
       "      <td>0.0</td>\n",
       "      <td>0.0</td>\n",
       "      <td>0.0</td>\n",
       "      <td>0.0</td>\n",
       "    </tr>\n",
       "    <tr>\n",
       "      <th>2</th>\n",
       "      <td>0.0</td>\n",
       "      <td>0.0</td>\n",
       "      <td>0.0</td>\n",
       "      <td>0.0</td>\n",
       "      <td>0.0</td>\n",
       "      <td>0.0</td>\n",
       "      <td>0.0</td>\n",
       "      <td>0.0</td>\n",
       "      <td>0.0</td>\n",
       "      <td>0.0</td>\n",
       "      <td>...</td>\n",
       "      <td>0.0</td>\n",
       "      <td>0.0</td>\n",
       "      <td>0.0</td>\n",
       "      <td>0.0</td>\n",
       "      <td>0.0</td>\n",
       "      <td>0.0</td>\n",
       "      <td>0.0</td>\n",
       "      <td>0.0</td>\n",
       "      <td>0.0</td>\n",
       "      <td>0.0</td>\n",
       "    </tr>\n",
       "    <tr>\n",
       "      <th>3</th>\n",
       "      <td>0.0</td>\n",
       "      <td>0.0</td>\n",
       "      <td>0.0</td>\n",
       "      <td>0.0</td>\n",
       "      <td>0.0</td>\n",
       "      <td>0.0</td>\n",
       "      <td>0.0</td>\n",
       "      <td>0.0</td>\n",
       "      <td>0.0</td>\n",
       "      <td>0.0</td>\n",
       "      <td>...</td>\n",
       "      <td>0.0</td>\n",
       "      <td>0.0</td>\n",
       "      <td>0.0</td>\n",
       "      <td>0.0</td>\n",
       "      <td>0.0</td>\n",
       "      <td>0.0</td>\n",
       "      <td>0.0</td>\n",
       "      <td>0.0</td>\n",
       "      <td>0.0</td>\n",
       "      <td>0.0</td>\n",
       "    </tr>\n",
       "    <tr>\n",
       "      <th>4</th>\n",
       "      <td>0.0</td>\n",
       "      <td>0.0</td>\n",
       "      <td>0.0</td>\n",
       "      <td>0.0</td>\n",
       "      <td>0.0</td>\n",
       "      <td>0.0</td>\n",
       "      <td>0.0</td>\n",
       "      <td>0.0</td>\n",
       "      <td>0.0</td>\n",
       "      <td>0.0</td>\n",
       "      <td>...</td>\n",
       "      <td>0.0</td>\n",
       "      <td>0.0</td>\n",
       "      <td>0.0</td>\n",
       "      <td>0.0</td>\n",
       "      <td>0.0</td>\n",
       "      <td>0.0</td>\n",
       "      <td>0.0</td>\n",
       "      <td>0.0</td>\n",
       "      <td>0.0</td>\n",
       "      <td>0.0</td>\n",
       "    </tr>\n",
       "  </tbody>\n",
       "</table>\n",
       "<p>5 rows × 9219 columns</p>\n",
       "</div>"
      ],
      "text/plain": [
       "    00  000  10maggie   12   13   15  1558   17  1865there  1908  ...  zenith  \\\n",
       "0  0.0  0.0       0.0  0.0  0.0  0.0   0.0  0.0        0.0   0.0  ...     0.0   \n",
       "1  0.0  0.0       0.0  0.0  0.0  0.0   0.0  0.0        0.0   0.0  ...     0.0   \n",
       "2  0.0  0.0       0.0  0.0  0.0  0.0   0.0  0.0        0.0   0.0  ...     0.0   \n",
       "3  0.0  0.0       0.0  0.0  0.0  0.0   0.0  0.0        0.0   0.0  ...     0.0   \n",
       "4  0.0  0.0       0.0  0.0  0.0  0.0   0.0  0.0        0.0   0.0  ...     0.0   \n",
       "\n",
       "   zephyrs  zest  zhashagiwag  zhingwaakwag  zipperedshut  zither  zithers  \\\n",
       "0      0.0   0.0          0.0           0.0           0.0     0.0      0.0   \n",
       "1      0.0   0.0          0.0           0.0           0.0     0.0      0.0   \n",
       "2      0.0   0.0          0.0           0.0           0.0     0.0      0.0   \n",
       "3      0.0   0.0          0.0           0.0           0.0     0.0      0.0   \n",
       "4      0.0   0.0          0.0           0.0           0.0     0.0      0.0   \n",
       "\n",
       "   zoom   ȟe  \n",
       "0   0.0  0.0  \n",
       "1   0.0  0.0  \n",
       "2   0.0  0.0  \n",
       "3   0.0  0.0  \n",
       "4   0.0  0.0  \n",
       "\n",
       "[5 rows x 9219 columns]"
      ]
     },
     "execution_count": 98,
     "metadata": {},
     "output_type": "execute_result"
    }
   ],
   "source": [
    "import pandas as pd\n",
    "from sklearn.feature_extraction.text import TfidfVectorizer\n",
    "\n",
    "# Initialize the TF-IDF Vectorizer\n",
    "tfidf_vectorizer = TfidfVectorizer()\n",
    "\n",
    "# Fit and transform the 'Poem' column\n",
    "X_tfidf = tfidf_vectorizer.fit_transform(df['Poem'])\n",
    "\n",
    "# Create a DataFrame from the transformed data\n",
    "df_tfidf = pd.DataFrame(X_tfidf.toarray(), columns=tfidf_vectorizer.get_feature_names_out())\n",
    "\n",
    "# Display the resulting DataFrame\n",
    "print(\"TF-IDF Vectorized DataFrame:\")\n",
    "df_tfidf.head()\n"
   ]
  },
  {
   "cell_type": "code",
   "execution_count": 108,
   "id": "922297cc-8c7a-4521-97ba-1d5b84a96a4a",
   "metadata": {},
   "outputs": [
    {
     "name": "stdout",
     "output_type": "stream",
     "text": [
      "Shape of TF-IDF matrix: (987, 9219)\n",
      "\n",
      "Vocabulary:\n",
      " ['00' '000' '10maggie' ... 'zithers' 'zoom' 'ȟe']\n"
     ]
    }
   ],
   "source": [
    "#gem code \n",
    "\n",
    "import pandas as pd\n",
    "from sklearn.feature_extraction.text import TfidfVectorizer\n",
    "\n",
    "# Assuming the DataFrame 'df' is already created \n",
    "\n",
    "# Create a TfidfVectorizer object\n",
    "vectorizer = TfidfVectorizer()\n",
    "\n",
    "# Fit and transform the 'Poem' column\n",
    "X_tfidf = vectorizer.fit_transform(df['Poem']) \n",
    "\n",
    "# Print the shape of the TF-IDF matrix\n",
    "print(\"Shape of TF-IDF matrix:\", X_tfidf.shape)\n",
    "\n",
    "# Get the vocabulary of TF-IDF\n",
    "feature_names = vectorizer.get_feature_names_out()\n",
    "print(\"\\nVocabulary:\\n\", feature_names)"
   ]
  },
  {
   "cell_type": "code",
   "execution_count": 110,
   "id": "a1cc9577-d3d1-4bf0-a6f1-7e03be482e1f",
   "metadata": {},
   "outputs": [
    {
     "data": {
      "text/plain": [
       "Genre\n",
       "Environment    252\n",
       "Music          250\n",
       "Death          244\n",
       "Affection      241\n",
       "Name: count, dtype: int64"
      ]
     },
     "execution_count": 110,
     "metadata": {},
     "output_type": "execute_result"
    }
   ],
   "source": [
    "df['Genre'].value_counts()"
   ]
  },
  {
   "cell_type": "code",
   "execution_count": 111,
   "id": "3bd2a3cc-ed49-48c3-8fde-3f0faf3fc94d",
   "metadata": {},
   "outputs": [],
   "source": [
    "def map_genre_to_value(genre):\n",
    "    genre_mapping = {\n",
    "        'Affection': 1,\n",
    "        'Environment': 2,\n",
    "        'Music': 3,\n",
    "        'Death': 4\n",
    "    }\n",
    "    return genre_mapping.get(genre, None)  # Return None if the genre is not found\n",
    "\n",
    "# Apply the function to the Genre column\n",
    "df['Genre_Value'] = df['Genre'].apply(map_genre_to_value)\n"
   ]
  },
  {
   "cell_type": "markdown",
   "id": "010753d0",
   "metadata": {
    "id": "010753d0"
   },
   "source": [
    "### 3.c. Split both Count-vectorirsed  & TF-IDF dataset into train & test set  with one fourth records being held for testing also ensure stratified sampling of traget i.e. ‘Genre’ on both splits ( 5-Marks)"
   ]
  },
  {
   "cell_type": "code",
   "execution_count": 100,
   "id": "bd4327b2",
   "metadata": {
    "id": "bd4327b2"
   },
   "outputs": [
    {
     "name": "stdout",
     "output_type": "stream",
     "text": [
      "Count Vectorizer - Training Set Shape: (740, 9219)\n",
      "Count Vectorizer - Test Set Shape: (247, 9219)\n",
      "TF-IDF - Training Set Shape: (740, 9219)\n",
      "TF-IDF - Test Set Shape: (247, 9219)\n"
     ]
    }
   ],
   "source": [
    "import pandas as pd\n",
    "from sklearn.model_selection import train_test_split\n",
    "from sklearn.feature_extraction.text import CountVectorizer, TfidfVectorizer\n",
    "\n",
    "# Initialize the Count Vectorizer and TF-IDF Vectorizer\n",
    "count_vectorizer = CountVectorizer()\n",
    "tfidf_vectorizer = TfidfVectorizer()\n",
    "\n",
    "# Apply Count Vectorizer to the 'Poem' column\n",
    "X_count = count_vectorizer.fit_transform(df['Poem'])\n",
    "\n",
    "# Apply TF-IDF Vectorizer to the 'Poem' column\n",
    "X_tfidf = tfidf_vectorizer.fit_transform(df['Poem'])\n",
    "\n",
    "# Extract target variable (Genre)\n",
    "y = df['Genre']\n",
    "\n",
    "# Split Count Vectorized Data (Stratified Sampling)\n",
    "X_train_count, X_test_count, y_train_count, y_test_count = train_test_split(\n",
    "    X_count, y, test_size=0.25, stratify=y, random_state=42\n",
    ")\n",
    "\n",
    "# Split TF-IDF Data (Stratified Sampling)\n",
    "X_train_tfidf, X_test_tfidf, y_train_tfidf, y_test_tfidf = train_test_split(\n",
    "    X_tfidf, y, test_size=0.25, stratify=y, random_state=42\n",
    ")\n",
    "\n",
    "# Display the shape of the resulting splits\n",
    "print(\"Count Vectorizer - Training Set Shape:\", X_train_count.shape)\n",
    "print(\"Count Vectorizer - Test Set Shape:\", X_test_count.shape)\n",
    "print(\"TF-IDF - Training Set Shape:\", X_train_tfidf.shape)\n",
    "print(\"TF-IDF - Test Set Shape:\", X_test_tfidf.shape)\n"
   ]
  },
  {
   "cell_type": "code",
   "execution_count": 109,
   "id": "efbf03a7-4232-467a-9903-275da3132b20",
   "metadata": {},
   "outputs": [
    {
     "data": {
      "text/plain": [
       "423          Death\n",
       "691    Environment\n",
       "629    Environment\n",
       "735    Environment\n",
       "48           Music\n",
       "          ...     \n",
       "89           Music\n",
       "177          Music\n",
       "319          Death\n",
       "665    Environment\n",
       "534      Affection\n",
       "Name: Genre, Length: 740, dtype: object"
      ]
     },
     "execution_count": 109,
     "metadata": {},
     "output_type": "execute_result"
    }
   ],
   "source": [
    "y_train_count\n"
   ]
  },
  {
   "cell_type": "code",
   "execution_count": 112,
   "id": "1e0ab7f2-11f5-4edc-844d-cb8ccacabbf5",
   "metadata": {},
   "outputs": [
    {
     "data": {
      "text/html": [
       "<div>\n",
       "<style scoped>\n",
       "    .dataframe tbody tr th:only-of-type {\n",
       "        vertical-align: middle;\n",
       "    }\n",
       "\n",
       "    .dataframe tbody tr th {\n",
       "        vertical-align: top;\n",
       "    }\n",
       "\n",
       "    .dataframe thead th {\n",
       "        text-align: right;\n",
       "    }\n",
       "</style>\n",
       "<table border=\"1\" class=\"dataframe\">\n",
       "  <thead>\n",
       "    <tr style=\"text-align: right;\">\n",
       "      <th></th>\n",
       "      <th>Genre</th>\n",
       "      <th>Poem</th>\n",
       "      <th>Processed_Poem</th>\n",
       "      <th>Sentence Lengths</th>\n",
       "      <th>Average Sentence Length</th>\n",
       "      <th>Genre_Value</th>\n",
       "    </tr>\n",
       "  </thead>\n",
       "  <tbody>\n",
       "    <tr>\n",
       "      <th>0</th>\n",
       "      <td>Music</td>\n",
       "      <td>In the thick brushthey spend the...</td>\n",
       "      <td>thick brushthei spend hottest part dai soak ho...</td>\n",
       "      <td>[28]</td>\n",
       "      <td>28.000000</td>\n",
       "      <td>3</td>\n",
       "    </tr>\n",
       "    <tr>\n",
       "      <th>1</th>\n",
       "      <td>Music</td>\n",
       "      <td>Storms are generous.                       ...</td>\n",
       "      <td>storm gener someth easi surrend sit window ste...</td>\n",
       "      <td>[4, 26]</td>\n",
       "      <td>15.000000</td>\n",
       "      <td>3</td>\n",
       "    </tr>\n",
       "    <tr>\n",
       "      <th>2</th>\n",
       "      <td>Music</td>\n",
       "      <td>—After Ana Mendieta Did you carry around the ...</td>\n",
       "      <td>—after ana mendieta carri around matin star ho...</td>\n",
       "      <td>[11, 8, 11, 17]</td>\n",
       "      <td>11.750000</td>\n",
       "      <td>3</td>\n",
       "    </tr>\n",
       "    <tr>\n",
       "      <th>3</th>\n",
       "      <td>Music</td>\n",
       "      <td>for Aja Sherrard at 20The portent may itself ...</td>\n",
       "      <td>aja sherrard 20the portent mai memori —wallac ...</td>\n",
       "      <td>[11, 27, 3]</td>\n",
       "      <td>13.666667</td>\n",
       "      <td>3</td>\n",
       "    </tr>\n",
       "    <tr>\n",
       "      <th>4</th>\n",
       "      <td>Music</td>\n",
       "      <td>for Bob Marley, Bavaria, November 1980 Here i...</td>\n",
       "      <td>bob marlei bavaria novemb 1980 brilliant morn ...</td>\n",
       "      <td>[42]</td>\n",
       "      <td>42.000000</td>\n",
       "      <td>3</td>\n",
       "    </tr>\n",
       "    <tr>\n",
       "      <th>...</th>\n",
       "      <td>...</td>\n",
       "      <td>...</td>\n",
       "      <td>...</td>\n",
       "      <td>...</td>\n",
       "      <td>...</td>\n",
       "      <td>...</td>\n",
       "    </tr>\n",
       "    <tr>\n",
       "      <th>985</th>\n",
       "      <td>Environment</td>\n",
       "      <td>To pick a tulip from the garden, the red one. ...</td>\n",
       "      <td>pick tulip garden red on put desk small blue v...</td>\n",
       "      <td>[12, 14, 23, 4]</td>\n",
       "      <td>13.250000</td>\n",
       "      <td>2</td>\n",
       "    </tr>\n",
       "    <tr>\n",
       "      <th>986</th>\n",
       "      <td>Environment</td>\n",
       "      <td>We are as clouds that veil the midnight moon; ...</td>\n",
       "      <td>cloud veil midnight moon restlessli speed glea...</td>\n",
       "      <td>[60]</td>\n",
       "      <td>60.000000</td>\n",
       "      <td>2</td>\n",
       "    </tr>\n",
       "    <tr>\n",
       "      <th>987</th>\n",
       "      <td>Environment</td>\n",
       "      <td>When pulled, the spider web took another form....</td>\n",
       "      <td>pull spider web took anoth form.th bull ’ s-ey...</td>\n",
       "      <td>[40, 11, 8]</td>\n",
       "      <td>19.666667</td>\n",
       "      <td>2</td>\n",
       "    </tr>\n",
       "    <tr>\n",
       "      <th>988</th>\n",
       "      <td>Environment</td>\n",
       "      <td>Whose woods these are I think I know. His hous...</td>\n",
       "      <td>whose wood think know hous villag though</td>\n",
       "      <td>[9, 7]</td>\n",
       "      <td>8.000000</td>\n",
       "      <td>2</td>\n",
       "    </tr>\n",
       "    <tr>\n",
       "      <th>989</th>\n",
       "      <td>Environment</td>\n",
       "      <td>you can make the maples blazejust by stopping ...</td>\n",
       "      <td>make mapl blazejust stop look set clock barkso...</td>\n",
       "      <td>[21, 28]</td>\n",
       "      <td>24.500000</td>\n",
       "      <td>2</td>\n",
       "    </tr>\n",
       "  </tbody>\n",
       "</table>\n",
       "<p>987 rows × 6 columns</p>\n",
       "</div>"
      ],
      "text/plain": [
       "           Genre                                               Poem  \\\n",
       "0          Music                In the thick brushthey spend the...   \n",
       "1          Music     Storms are generous.                       ...   \n",
       "2          Music   —After Ana Mendieta Did you carry around the ...   \n",
       "3          Music   for Aja Sherrard at 20The portent may itself ...   \n",
       "4          Music   for Bob Marley, Bavaria, November 1980 Here i...   \n",
       "..           ...                                                ...   \n",
       "985  Environment  To pick a tulip from the garden, the red one. ...   \n",
       "986  Environment  We are as clouds that veil the midnight moon; ...   \n",
       "987  Environment  When pulled, the spider web took another form....   \n",
       "988  Environment  Whose woods these are I think I know. His hous...   \n",
       "989  Environment  you can make the maples blazejust by stopping ...   \n",
       "\n",
       "                                        Processed_Poem Sentence Lengths  \\\n",
       "0    thick brushthei spend hottest part dai soak ho...             [28]   \n",
       "1    storm gener someth easi surrend sit window ste...          [4, 26]   \n",
       "2    —after ana mendieta carri around matin star ho...  [11, 8, 11, 17]   \n",
       "3    aja sherrard 20the portent mai memori —wallac ...      [11, 27, 3]   \n",
       "4    bob marlei bavaria novemb 1980 brilliant morn ...             [42]   \n",
       "..                                                 ...              ...   \n",
       "985  pick tulip garden red on put desk small blue v...  [12, 14, 23, 4]   \n",
       "986  cloud veil midnight moon restlessli speed glea...             [60]   \n",
       "987  pull spider web took anoth form.th bull ’ s-ey...      [40, 11, 8]   \n",
       "988           whose wood think know hous villag though           [9, 7]   \n",
       "989  make mapl blazejust stop look set clock barkso...         [21, 28]   \n",
       "\n",
       "     Average Sentence Length  Genre_Value  \n",
       "0                  28.000000            3  \n",
       "1                  15.000000            3  \n",
       "2                  11.750000            3  \n",
       "3                  13.666667            3  \n",
       "4                  42.000000            3  \n",
       "..                       ...          ...  \n",
       "985                13.250000            2  \n",
       "986                60.000000            2  \n",
       "987                19.666667            2  \n",
       "988                 8.000000            2  \n",
       "989                24.500000            2  \n",
       "\n",
       "[987 rows x 6 columns]"
      ]
     },
     "execution_count": 112,
     "metadata": {},
     "output_type": "execute_result"
    }
   ],
   "source": [
    "df"
   ]
  },
  {
   "cell_type": "code",
   "execution_count": 113,
   "id": "8c9d6f46-b1cb-4807-aeae-4fb4b9b57e5a",
   "metadata": {},
   "outputs": [
    {
     "name": "stdout",
     "output_type": "stream",
     "text": [
      "Count Vectorizer - Training Set Shape: (740, 9219)\n",
      "Count Vectorizer - Test Set Shape: (247, 9219)\n",
      "TF-IDF - Training Set Shape: (740, 9219)\n",
      "TF-IDF - Test Set Shape: (247, 9219)\n"
     ]
    }
   ],
   "source": [
    "import pandas as pd\n",
    "from sklearn.model_selection import train_test_split\n",
    "from sklearn.feature_extraction.text import CountVectorizer, TfidfVectorizer\n",
    "\n",
    "# Initialize the Count Vectorizer and TF-IDF Vectorizer\n",
    "count_vectorizer = CountVectorizer()\n",
    "tfidf_vectorizer = TfidfVectorizer()\n",
    "\n",
    "# Apply Count Vectorizer to the 'Poem' column\n",
    "X_count = count_vectorizer.fit_transform(df['Poem'])\n",
    "\n",
    "# Apply TF-IDF Vectorizer to the 'Poem' column\n",
    "X_tfidf = tfidf_vectorizer.fit_transform(df['Poem'])\n",
    "\n",
    "# Extract target variable (Genre)\n",
    "y = df['Genre_Value']\n",
    "\n",
    "# Split Count Vectorized Data (Stratified Sampling)\n",
    "X_train_count, X_test_count, y_train_count, y_test_count = train_test_split(\n",
    "    X_count, y, test_size=0.25, stratify=y, random_state=42\n",
    ")\n",
    "\n",
    "# Split TF-IDF Data (Stratified Sampling)\n",
    "X_train_tfidf, X_test_tfidf, y_train_tfidf, y_test_tfidf = train_test_split(\n",
    "    X_tfidf, y, test_size=0.25, stratify=y, random_state=42\n",
    ")\n",
    "\n",
    "# Display the shape of the resulting splits\n",
    "print(\"Count Vectorizer - Training Set Shape:\", X_train_count.shape)\n",
    "print(\"Count Vectorizer - Test Set Shape:\", X_test_count.shape)\n",
    "print(\"TF-IDF - Training Set Shape:\", X_train_tfidf.shape)\n",
    "print(\"TF-IDF - Test Set Shape:\", X_test_tfidf.shape)"
   ]
  },
  {
   "cell_type": "markdown",
   "id": "e8f1e1ea",
   "metadata": {
    "id": "e8f1e1ea"
   },
   "source": [
    "### 3.d. Build a basic Multinomial Naive Bayes classifier. on Count-vectorize train set. Find out its accuracy on Count-vectorize test set.  (5+5)"
   ]
  },
  {
   "cell_type": "code",
   "execution_count": 114,
   "id": "3d0b14c1",
   "metadata": {
    "id": "3d0b14c1"
   },
   "outputs": [
    {
     "name": "stdout",
     "output_type": "stream",
     "text": [
      "Accuracy on Count-Vectorized Test Set: 37.25%\n"
     ]
    }
   ],
   "source": [
    "from sklearn.naive_bayes import MultinomialNB\n",
    "from sklearn.metrics import accuracy_score\n",
    "\n",
    "# Initialize the Multinomial Naive Bayes classifier\n",
    "nb_classifier = MultinomialNB()\n",
    "\n",
    "# Train the classifier on the Count-Vectorized training set\n",
    "nb_classifier.fit(X_train_count, y_train_count)\n",
    "\n",
    "# Predict the genre on the Count-Vectorized test set\n",
    "y_pred_count = nb_classifier.predict(X_test_count)\n",
    "\n",
    "# Calculate the accuracy of the model\n",
    "accuracy_count = accuracy_score(y_test_count, y_pred_count)\n",
    "\n",
    "# Display the accuracy\n",
    "print(f\"Accuracy on Count-Vectorized Test Set: {accuracy_count * 100:.2f}%\")\n"
   ]
  },
  {
   "cell_type": "code",
   "execution_count": 107,
   "id": "d1167bb5-ca8a-4f89-893f-a04207f8b057",
   "metadata": {},
   "outputs": [
    {
     "data": {
      "text/plain": [
       "423          Death\n",
       "691    Environment\n",
       "629    Environment\n",
       "735    Environment\n",
       "48           Music\n",
       "          ...     \n",
       "89           Music\n",
       "177          Music\n",
       "319          Death\n",
       "665    Environment\n",
       "534      Affection\n",
       "Name: Genre, Length: 740, dtype: object"
      ]
     },
     "execution_count": 107,
     "metadata": {},
     "output_type": "execute_result"
    }
   ],
   "source": [
    "y_train_count"
   ]
  },
  {
   "cell_type": "markdown",
   "id": "502fa003",
   "metadata": {
    "id": "502fa003"
   },
   "source": [
    "### 3.e. Build a basic Multinomial Naive Bayes classifier on TF-IDF train set. find out its accuracy on TF-IDF test set. Which model has better accuracy? (5+5)  "
   ]
  },
  {
   "cell_type": "code",
   "execution_count": 115,
   "id": "72fb6465",
   "metadata": {
    "id": "72fb6465"
   },
   "outputs": [
    {
     "name": "stdout",
     "output_type": "stream",
     "text": [
      "Accuracy on Count-Vectorized Test Set: 37.25%\n",
      "Accuracy on TF-IDF Test Set: 39.27%\n",
      "TF-IDF model has better accuracy.\n"
     ]
    }
   ],
   "source": [
    "# Train the Multinomial Naive Bayes classifier on the TF-IDF train set\n",
    "nb_classifier_tfidf = MultinomialNB()\n",
    "\n",
    "# Train the classifier using the TF-IDF train set\n",
    "nb_classifier_tfidf.fit(X_train_tfidf, y_train_tfidf)\n",
    "\n",
    "# Predict the genre on the TF-IDF test set\n",
    "y_pred_tfidf = nb_classifier_tfidf.predict(X_test_tfidf)\n",
    "\n",
    "# Calculate the accuracy on the TF-IDF test set\n",
    "accuracy_tfidf = accuracy_score(y_test_tfidf, y_pred_tfidf)\n",
    "\n",
    "\n",
    "\n",
    "# Compare the accuracy of both models\n",
    "print(f\"Accuracy on Count-Vectorized Test Set: {accuracy_count * 100:.2f}%\")\n",
    "print(f\"Accuracy on TF-IDF Test Set: {accuracy_tfidf * 100:.2f}%\")\n",
    "\n",
    "if accuracy_count > accuracy_tfidf:\n",
    "    print(\"Count-Vectorized model has better accuracy.\")\n",
    "else:\n",
    "    print(\"TF-IDF model has better accuracy.\")\n"
   ]
  },
  {
   "cell_type": "code",
   "execution_count": null,
   "id": "gYtrXbV7vXep",
   "metadata": {
    "id": "gYtrXbV7vXep"
   },
   "outputs": [],
   "source": []
  },
  {
   "cell_type": "markdown",
   "id": "HpshLCaZvZgr",
   "metadata": {
    "id": "HpshLCaZvZgr"
   },
   "source": [
    "### 3.f. Write your observations on the models built and explain what could be done to improve the accuracy. (5 marks)"
   ]
  },
  {
   "cell_type": "markdown",
   "id": "cb62f2bb-962b-47cf-911c-3cf50df59475",
   "metadata": {
    "id": "b609e6d8"
   },
   "source": [
    "Observations:\n",
    "\n",
    "TF-IDF Outperforms CountVectorizer: In this case, TF-IDF appears to capture more informative weightings for the words in the poems compared to simple word counts. This could be because TF-IDF considers both the frequency of a word within a poem (TF) and its overall importance across the entire corpus (IDF). This can help to downplay the importance of common words and emphasize words that are more distinctive to a particular genre.\n",
    "\n",
    "\n",
    "Potential Improvements:\n",
    "\n",
    "Data Preprocessing:\n",
    "\n",
    "Cleaning and Normalization: Consider cleaning the text data by removing stop words (e.g., \"the\", \"a\", \"an\"), punctuation, and potentially stemming or lemmatizing words to their root forms. This can help reduce noise and improve the model's focus on content-bearing words.\n",
    "Genre Balance: If the dataset has a significant imbalance between genres, explore techniques like oversampling or undersampling to create a more balanced class distribution. This can help the model learn more effectively from genres with fewer examples.\n",
    "Model Selection and Tuning:\n",
    "\n",
    "Explore Different Classifiers: Experiment with other classification algorithms besides Multinomial Naive Bayes, such as Support Vector Machines (SVM) or Random Forests. These models might perform better on this specific dataset.\n",
    "Hyperparameter Tuning: Try tuning hyperparameters of the Naive Bayes model, such as smoothing parameters. Grid search or randomized search can be used to find optimal hyperparameter values.\n",
    "Feature Engineering:\n",
    "\n",
    "N-grams: Consider using n-grams (sequences of words) as features. This can capture potentially meaningful phrases or short descriptions within the poems that might be indicative of genre.\n",
    "Part-of-Speech (POS) features: Explore using POS features to capture the grammatical structure of the poems. The distribution of nouns, verbs, adjectives, etc., could provide clues about genre.\n",
    "Advanced Techniques:\n",
    "\n",
    "Word Embeddings: If the dataset is large enough, consider using pre-trained word embeddings (e.g., Word2Vec, GloVe) to represent words. These embeddings capture semantic relationships between words, which might be beneficial for the model.\n",
    "Deep Learning Models: For very large datasets, deep learning architectures like Recurrent Neural Networks (RNNs) or Convolutional Neural Networks (CNNs) can be explored. These models can learn complex patterns from text data.\n",
    "\n"
   ]
  },
  {
   "cell_type": "markdown",
   "id": "MSCVAmpYwEpe",
   "metadata": {
    "id": "MSCVAmpYwEpe"
   },
   "source": []
  }
 ],
 "metadata": {
  "colab": {
   "provenance": []
  },
  "kernelspec": {
   "display_name": "Python 3 (ipykernel)",
   "language": "python",
   "name": "python3"
  },
  "language_info": {
   "codemirror_mode": {
    "name": "ipython",
    "version": 3
   },
   "file_extension": ".py",
   "mimetype": "text/x-python",
   "name": "python",
   "nbconvert_exporter": "python",
   "pygments_lexer": "ipython3",
   "version": "3.12.4"
  }
 },
 "nbformat": 4,
 "nbformat_minor": 5
}
